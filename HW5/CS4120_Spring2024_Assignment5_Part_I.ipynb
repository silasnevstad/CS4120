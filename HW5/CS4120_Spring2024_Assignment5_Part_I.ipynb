{
 "cells": [
  {
   "cell_type": "markdown",
   "metadata": {},
   "source": [
    "# CS4120 - Natural Language Processing - Spring 2024\n",
    "Instructor: Amir Tahmasebi"
   ]
  },
  {
   "cell_type": "markdown",
   "metadata": {},
   "source": [
    "## Assignment 5 - Part I"
   ]
  },
  {
   "cell_type": "markdown",
   "metadata": {},
   "source": [
    "# Language Models: Auto-Complete\n",
    "\n",
    "In this assignment, you will build an auto-complete system.\n",
    "\n",
    "A key building block for an auto-complete system is language models.\n",
    "A Language models assigns the probability to a sequence of words, in a way that more \"likely\" sequences receives higher scores.  \n",
    "\n",
    "While a variety of language models have been developed, this assignment uses **N-grams**, a simple but still powerful methodology for language modeling.\n",
    "N-grams are used not only for auto-complete systems, but are also useful in machine translation, speech recognition, and could even help you classify authors given a text. \n",
    "\n",
    "\n",
    "Here is the steps of this assignment:\n",
    "\n",
    "1. Load and preprocess data\n",
    "    - Load and tokenize data.\n",
    "    - Split the sentences into training and test sets.\n",
    "    - Replace words with a low frequency by an unknown marker '<unk>'.\n",
    "1. Develop N-gram based language models\n",
    "    - Compute the count of n-grams from a given data set.\n",
    "    - Estimate the conditional probability of a next word with k-smoothing.\n",
    "1. Evaluate the N-gram models by computing the perplexity score.\n",
    "1. Use your own model to suggest an upcoming word given your sentence. "
   ]
  },
  {
   "cell_type": "code",
   "execution_count": 34,
   "metadata": {
    "ExecuteTime": {
     "end_time": "2024-03-12T00:17:08.474272Z",
     "start_time": "2024-03-12T00:17:07.942133Z"
    }
   },
   "outputs": [],
   "source": [
    "import math\n",
    "import random\n",
    "import numpy as np\n",
    "import pandas as pd\n",
    "import nltk\n",
    "nltk.data.path.append('.')"
   ]
  },
  {
   "cell_type": "markdown",
   "metadata": {},
   "source": [
    "## Part 1: Load and Preprocess Data\n",
    "\n",
    "We will be using twitter data for our exercise.\n",
    "Let's load the data and see the first few sentences by the running the next cell.\n",
    "\n",
    "Notice that data is a long string that contains many many tweats.\n",
    "Observe that we have a linebreak \"\\n\" between two sentences (tweats)."
   ]
  },
  {
   "cell_type": "code",
   "execution_count": 35,
   "metadata": {
    "ExecuteTime": {
     "end_time": "2024-03-12T00:17:09.174575Z",
     "start_time": "2024-03-12T00:17:07.945490Z"
    }
   },
   "outputs": [
    {
     "name": "stdout",
     "output_type": "stream",
     "text": [
      "Data type: <class 'str'>\n",
      "Number of letters: 164456396\n",
      "First 300 letters of the data\n",
      "-------\n"
     ]
    },
    {
     "data": {
      "text/plain": "\"How are you? Btw thanks for the RT. You gonna be in DC anytime soon? Love to see you. Been way, way too long.\\nWhen you meet someone special... you'll know. Your heart will beat more rapidly and you'll smile for no reason.\\nthey've decided its more fun if I don't.\\nSo Tired D; Played Lazer Tag & Ran A \""
     },
     "metadata": {},
     "output_type": "display_data"
    },
    {
     "name": "stdout",
     "output_type": "stream",
     "text": [
      "-------\n",
      "Last 300 letters of the data\n",
      "-------\n"
     ]
    },
    {
     "data": {
      "text/plain": "'od. I see the success you got poppin in yo area.\\nRT : Consumers are visual. They want data at their finger tips. Mobile is the only way to deliver this, 24/7.\\nu welcome\\nIt is #RHONJ time!!\\nThe key to keeping your woman happy= attention, affection, treat her like a queen and sex her like a pornstar!\\n'"
     },
     "metadata": {},
     "output_type": "display_data"
    },
    {
     "name": "stdout",
     "output_type": "stream",
     "text": [
      "-------\n"
     ]
    }
   ],
   "source": [
    "with open(\"./en_US.twitter.txt\", \"r\") as f: # update the path accordingly.\n",
    "    data = f.read()\n",
    "print(\"Data type:\", type(data))\n",
    "print(\"Number of letters:\", len(data))\n",
    "print(\"First 300 letters of the data\")\n",
    "print(\"-------\")\n",
    "display(data[0:300])\n",
    "print(\"-------\")\n",
    "\n",
    "print(\"Last 300 letters of the data\")\n",
    "print(\"-------\")\n",
    "display(data[-300:])\n",
    "print(\"-------\")"
   ]
  },
  {
   "cell_type": "markdown",
   "metadata": {},
   "source": [
    "We will preprocess this data by the following steps:\n",
    "\n",
    "1. Split data into sentences.\n",
    "1. Split each sentence into tokens.\n",
    "1. Split sentences into training and test data.\n",
    "1. Find tokens that appear at least N times in the training data.\n",
    "1. Replace tokens that appear less than N times by \"<unk\\>\"\n",
    "\n",
    "Note that in this assignment we use \"token\" and \"words\" interchangeably.\n",
    "\n",
    "Note: we omit validation data in this exercise.\n",
    "In real applications, we should hold a part of data as a validation set and use it to tune our training.\n",
    "We skip this process for simplicity."
   ]
  },
  {
   "cell_type": "markdown",
   "metadata": {},
   "source": [
    "The first step of the data processing is to split this large string into sentences.  For simplicity, we will use the linebreak \"\\n\" as the delimiter.\n",
    "\n",
    "Hint: Use [str.split](https://docs.python.org/3/library/stdtypes.html?highlight=split#str.split) method."
   ]
  },
  {
   "cell_type": "code",
   "execution_count": 36,
   "metadata": {
    "ExecuteTime": {
     "end_time": "2024-03-12T00:17:09.174902Z",
     "start_time": "2024-03-12T00:17:08.765050Z"
    }
   },
   "outputs": [],
   "source": [
    "### To be completed: split_to_sentences ###\n",
    "def split_to_sentences(data):\n",
    "    \"\"\"\n",
    "    Split data by linebreak \"\\n\"\n",
    "    \n",
    "    Args:\n",
    "        data: str\n",
    "    \n",
    "    Returns:\n",
    "        A list of sentences\n",
    "    \"\"\"    \n",
    "    sentences = data.split(\"\\n\")\n",
    "    sentences = [s.strip() for s in sentences if s.strip() != '']\n",
    "    return sentences    "
   ]
  },
  {
   "cell_type": "code",
   "execution_count": 37,
   "metadata": {
    "ExecuteTime": {
     "end_time": "2024-03-12T00:17:09.175069Z",
     "start_time": "2024-03-12T00:17:08.768091Z"
    }
   },
   "outputs": [
    {
     "name": "stdout",
     "output_type": "stream",
     "text": [
      "\n",
      "I have a pen.\n",
      "I have an apple. \n",
      "Ah\n",
      "Apple pen.\n",
      "\n"
     ]
    },
    {
     "data": {
      "text/plain": "['I have a pen.', 'I have an apple.', 'Ah', 'Apple pen.']"
     },
     "execution_count": 37,
     "metadata": {},
     "output_type": "execute_result"
    }
   ],
   "source": [
    "# test your code\n",
    "x = \"\"\"\n",
    "I have a pen.\\nI have an apple. \\nAh\\nApple pen.\\n\n",
    "\"\"\"\n",
    "print(x)\n",
    "\n",
    "split_to_sentences(x)"
   ]
  },
  {
   "cell_type": "markdown",
   "metadata": {},
   "source": [
    "Expected answer: \n",
    "```\n",
    "['I have a pen.', 'I have an apple.', 'Ah', 'Apple pen.']\n",
    "```"
   ]
  },
  {
   "cell_type": "markdown",
   "metadata": {},
   "source": [
    "The next step is to tokenize sentences, that is, we split a sentence into a sequence of tokens (words). \n",
    "We also convert all tokens into lower cases not to distinguish the words appearing at the beginning.\n",
    "\n",
    "Hint:\n",
    "Use [str.lower](https://docs.python.org/3/library/stdtypes.html?highlight=split#str.lower) method for converting strings to lower cases.\n",
    "For splitting a sentence into tokens, [nltk.word_tokenize](https://www.nltk.org/api/nltk.tokenize.html#nltk.tokenize.punkt.PunktLanguageVars.word_tokenize) function is helpful.(Implementation with [str.split](https://docs.python.org/3/library/stdtypes.html?highlight=split#str.split) would require some additional edge cases (e.g. comma or period right after a word)."
   ]
  },
  {
   "cell_type": "code",
   "execution_count": 38,
   "metadata": {
    "ExecuteTime": {
     "end_time": "2024-03-12T00:17:09.175112Z",
     "start_time": "2024-03-12T00:17:08.771973Z"
    }
   },
   "outputs": [],
   "source": [
    "### To be completed: tokenize_sentences ###\n",
    "def tokenize_sentences(sentences):\n",
    "    \"\"\"\n",
    "    Tokenize sentences into tokens (words)\n",
    "    \n",
    "    Args:\n",
    "        sentences: List of strings\n",
    "    \n",
    "    Returns:\n",
    "        List of lists of tokens\n",
    "    \"\"\"\n",
    "    \n",
    "    tokenized_sentences = [nltk.word_tokenize(sentence.lower()) for sentence in sentences]\n",
    "\n",
    "    return tokenized_sentences"
   ]
  },
  {
   "cell_type": "code",
   "execution_count": 39,
   "metadata": {
    "ExecuteTime": {
     "end_time": "2024-03-12T00:17:09.175264Z",
     "start_time": "2024-03-12T00:17:08.775104Z"
    }
   },
   "outputs": [
    {
     "data": {
      "text/plain": "[['sky', 'is', 'blue', '.'],\n ['leaves', 'are', 'green', '.'],\n ['roses', 'are', 'red', '.']]"
     },
     "execution_count": 39,
     "metadata": {},
     "output_type": "execute_result"
    }
   ],
   "source": [
    "# test your code\n",
    "sentences = [\"Sky is blue.\", \"Leaves are green.\", \"Roses are red.\"]\n",
    "tokenize_sentences(sentences)"
   ]
  },
  {
   "cell_type": "markdown",
   "metadata": {},
   "source": [
    "Expected answer:\n",
    "\n",
    "```\n",
    "[['sky', 'is', 'blue', '.'],\n",
    " ['leaves', 'are', 'green', '.'],\n",
    " ['roses', 'are', 'red', '.']]\n",
    "```"
   ]
  },
  {
   "cell_type": "code",
   "execution_count": 40,
   "metadata": {
    "ExecuteTime": {
     "end_time": "2024-03-12T00:17:09.175348Z",
     "start_time": "2024-03-12T00:17:08.810685Z"
    }
   },
   "outputs": [
    {
     "name": "stdout",
     "output_type": "stream",
     "text": [
      "Successfully passed test case: notebook example\n",
      "Successfully passed test case: no sentence\n",
      "Successfully passed test case: one sentence with ;\n",
      "Successfully passed test case: two sentences, one in CAPS\n",
      "Successfully passed test case: long sentence\n"
     ]
    }
   ],
   "source": [
    "# This is an example for the previous function:\n",
    "def test_tokenize_sentences():\n",
    "    test_cases = [\n",
    "        {\n",
    "            \"name\": \"notebook example\",\n",
    "            \"input\": [\"Sky is blue.\", \"Leaves are green.\", \"Roses are red.\"],\n",
    "            \"expected\": [['sky', 'is', 'blue', '.'], ['leaves', 'are', 'green', '.'], ['roses', 'are', 'red', '.']]\n",
    "        },\n",
    "        {\n",
    "            \"name\": \"no sentence\",\n",
    "            \"input\": [],\n",
    "            \"expected\": []\n",
    "        },\n",
    "        {\n",
    "            \"name\": \"one sentence with ;\",\n",
    "            \"input\": [\"Grass is greener;\"],\n",
    "            \"expected\": [['grass', 'is', 'greener', ';']]\n",
    "        },\n",
    "        {\n",
    "            \"name\": \"two sentences, one in CAPS\",\n",
    "            \"input\": [\"Space if infinite.\", \"OR IS IT?\"],\n",
    "            \"expected\": [['space', 'if', 'infinite', '.'], ['or', 'is', 'it', '?']]\n",
    "        },\n",
    "        {\n",
    "            \"name\": \"long sentence\",\n",
    "            \"input\": [\"Really really long sentence. It is very long indeed; so long...\"],\n",
    "            \"expected\": [['really', 'really', 'long', 'sentence', '.', 'it', 'is', 'very', 'long', 'indeed', ';', 'so', 'long', '...']]\n",
    "        }\n",
    "    ]\n",
    "    for test_case in test_cases:\n",
    "        assert test_case[\"expected\"] == tokenize_sentences(test_case[\"input\"])\n",
    "        print('Successfully passed test case: ' + test_case[\"name\"])\n",
    "\n",
    "test_tokenize_sentences()"
   ]
  },
  {
   "cell_type": "markdown",
   "metadata": {},
   "source": [
    "As covered in the lecture, we won't be using all the tokens (words) appearing in the data for training.  Instead, we will use only the words that appear at least N times in the data.\n",
    "To do so, let's count up all the words in the data set.\n",
    "\n",
    "Hint: You need a double for-loop, one for sentences and the other for tokens within a sentence."
   ]
  },
  {
   "cell_type": "markdown",
   "metadata": {},
   "source": [
    "Using the function above, we can now preprare the tokenized data."
   ]
  },
  {
   "cell_type": "code",
   "execution_count": 41,
   "metadata": {
    "ExecuteTime": {
     "end_time": "2024-03-12T00:17:09.175383Z",
     "start_time": "2024-03-12T00:17:08.810846Z"
    }
   },
   "outputs": [],
   "source": [
    "### To be completed: get_tokenized_data ###\n",
    "def get_tokenized_data(data):\n",
    "    \"\"\"\n",
    "    Make a list of tokenized sentences\n",
    "    \n",
    "    Args:\n",
    "        data: String\n",
    "    \n",
    "    Returns:\n",
    "        List of lists of tokens\n",
    "    \"\"\"\n",
    "    \n",
    "    # split data into sentences\n",
    "    sentences = split_to_sentences(data)\n",
    "    \n",
    "    # tokenize sentences\n",
    "    tokenized_sentences = tokenize_sentences(sentences)\n",
    "    \n",
    "    return tokenized_sentences"
   ]
  },
  {
   "cell_type": "code",
   "execution_count": 42,
   "metadata": {
    "ExecuteTime": {
     "end_time": "2024-03-12T00:17:09.175458Z",
     "start_time": "2024-03-12T00:17:08.810901Z"
    }
   },
   "outputs": [
    {
     "data": {
      "text/plain": "[['sky', 'is', 'blue', '.'],\n ['leaves', 'are', 'green'],\n ['roses', 'are', 'red', '.']]"
     },
     "execution_count": 42,
     "metadata": {},
     "output_type": "execute_result"
    }
   ],
   "source": [
    "x = \"Sky is blue.\\nLeaves are green\\nRoses are red.\"\n",
    "get_tokenized_data(x)"
   ]
  },
  {
   "cell_type": "markdown",
   "metadata": {},
   "source": [
    "Expected outcome:\n",
    "\n",
    "```\n",
    "[['sky', 'is', 'blue', '.'],\n",
    " ['leaves', 'are', 'green'],\n",
    " ['roses', 'are', 'red', '.']]\n",
    "```"
   ]
  },
  {
   "cell_type": "markdown",
   "metadata": {},
   "source": [
    "Now run the cell below to split data into training and test sets."
   ]
  },
  {
   "cell_type": "code",
   "execution_count": 43,
   "metadata": {
    "ExecuteTime": {
     "end_time": "2024-03-12T00:20:00.335042Z",
     "start_time": "2024-03-12T00:17:09.072631Z"
    }
   },
   "outputs": [],
   "source": [
    "tokenized_data = get_tokenized_data(data)\n",
    "random.seed(87)\n",
    "random.shuffle(tokenized_data)\n",
    "\n",
    "train_size = int(len(tokenized_data) * 0.8)\n",
    "train_data = tokenized_data[0:train_size]\n",
    "test_data = tokenized_data[train_size:]"
   ]
  },
  {
   "cell_type": "code",
   "execution_count": 44,
   "metadata": {
    "ExecuteTime": {
     "end_time": "2024-03-12T00:20:00.477844Z",
     "start_time": "2024-03-12T00:20:00.394199Z"
    }
   },
   "outputs": [
    {
     "name": "stdout",
     "output_type": "stream",
     "text": [
      "2360148 data are split into 1888118 train and 472030 test set\n",
      "First training sample:\n",
      "['adam', 'sandler', 'is', 'not', 'being', 'funny', 'on', '#', 'peoplechoice', '.', 'make', 'it', 'stop']\n",
      "First test sample\n",
      "['“', ':', 'dwayne', 'wade', 'accused', 'pacers', 'of', 'excessive', 'celebration', '.', 'the', 'heat', 'would', 'never', 'celebrate', 'before', 'they', 'won', 'anything', '.', '”']\n"
     ]
    }
   ],
   "source": [
    "print(\"{} data are split into {} train and {} test set\".format(\n",
    "    len(tokenized_data), len(train_data), len(test_data)))\n",
    "\n",
    "print(\"First training sample:\")\n",
    "print(train_data[0])\n",
    "      \n",
    "print(\"First test sample\")\n",
    "print(test_data[0])"
   ]
  },
  {
   "cell_type": "markdown",
   "metadata": {},
   "source": [
    "One problem you can bump into when using n-grams for predicting the upcoming word is what happens if you input a word that you have never seen in the dataset. These are called unknown words, or <b>out of vocabulary (OOV)</b> words. The percentage of unknown words in the test set is called the <b> OOV </b> rate. In such a case, you will not be able to predict the upcoming word because you do not have any counts for that specific word. To mitigate this problem, you would look at all the words in the training set, and only keep a list of the most frequent words. This will be your <b> closed vocabulary </b>. All the other words that are not part of your closed vocabulary will be changed to the word 'unk'. You will now create a function that takes in a text document, n, which is the number of most frequent words used that you want to keep, returns the document containing only the word closed vocabulary and the word unk. "
   ]
  },
  {
   "cell_type": "code",
   "execution_count": 45,
   "metadata": {
    "ExecuteTime": {
     "end_time": "2024-03-12T00:20:00.478585Z",
     "start_time": "2024-03-12T00:20:00.396352Z"
    }
   },
   "outputs": [],
   "source": [
    "### To be completed: count_words ###\n",
    "def count_words(tokenized_sentences):\n",
    "    \"\"\"\n",
    "    Count the number of word appearence in the tokenized sentences\n",
    "    \n",
    "    Args:\n",
    "        tokenized_sentences: List of lists of strings\n",
    "    \n",
    "    Returns:\n",
    "        dict that maps word (str) to the frequency (int)\n",
    "    \"\"\"\n",
    "    word_counts = {}\n",
    "    \n",
    "    for sentence in tokenized_sentences:\n",
    "        for token in sentence:\n",
    "            word_counts[token] = word_counts.get(token, 0) + 1\n",
    "    \n",
    "    return word_counts"
   ]
  },
  {
   "cell_type": "code",
   "execution_count": 46,
   "metadata": {
    "ExecuteTime": {
     "end_time": "2024-03-12T00:20:00.480616Z",
     "start_time": "2024-03-12T00:20:00.400135Z"
    }
   },
   "outputs": [
    {
     "data": {
      "text/plain": "{'sky': 1,\n 'is': 1,\n 'blue': 1,\n '.': 3,\n 'leaves': 1,\n 'are': 2,\n 'green': 1,\n 'roses': 1,\n 'red': 1}"
     },
     "execution_count": 46,
     "metadata": {},
     "output_type": "execute_result"
    }
   ],
   "source": [
    "# test your code\n",
    "tokenized_sentences = [['sky', 'is', 'blue', '.'],\n",
    "                       ['leaves', 'are', 'green', '.'],\n",
    "                       ['roses', 'are', 'red', '.']]\n",
    "count_words(tokenized_sentences)"
   ]
  },
  {
   "cell_type": "markdown",
   "metadata": {},
   "source": [
    "Expected answer (order may differ):\n",
    "\n",
    "```\n",
    "{'sky': 1,\n",
    " 'is': 1,\n",
    " 'blue': 1,\n",
    " '.': 3,\n",
    " 'leaves': 1,\n",
    " 'are': 2,\n",
    " 'green': 1,\n",
    " 'roses': 1,\n",
    " 'red': 1}\n",
    "```"
   ]
  },
  {
   "cell_type": "markdown",
   "metadata": {},
   "source": [
    "Using the word counts computed above, we will now find the N most frequence words.\n",
    "The implementation requires a bit of care, since dictionary type is essentially "
   ]
  },
  {
   "cell_type": "code",
   "execution_count": 47,
   "metadata": {
    "ExecuteTime": {
     "end_time": "2024-03-12T00:20:00.480893Z",
     "start_time": "2024-03-12T00:20:00.402592Z"
    }
   },
   "outputs": [],
   "source": [
    "### To be completed: get_words_with_nplus_frequency ###\n",
    "def get_words_with_nplus_frequency(tokenized_sentences, minimum_freq):\n",
    "    \"\"\"\n",
    "    Find the words that appear N times or more\n",
    "    \n",
    "    Args:\n",
    "        tokenized_sentences: List of lists of sentences\n",
    "        minimum_freq: Minimum frequency, i.e. N\n",
    "    \n",
    "    Returns:\n",
    "        List of words that appear N times or more\n",
    "    \"\"\"\n",
    "    word_counts = count_words(tokenized_sentences)\n",
    "\n",
    "    filtered_words = [word for word, count in word_counts.items() if count >= minimum_freq]\n",
    "    \n",
    "    return filtered_words"
   ]
  },
  {
   "cell_type": "code",
   "execution_count": 48,
   "metadata": {
    "ExecuteTime": {
     "end_time": "2024-03-12T00:20:00.495961Z",
     "start_time": "2024-03-12T00:20:00.405098Z"
    }
   },
   "outputs": [
    {
     "data": {
      "text/plain": "['.', 'are']"
     },
     "execution_count": 48,
     "metadata": {},
     "output_type": "execute_result"
    }
   ],
   "source": [
    "# test your code\n",
    "tokenized_sentences = [['sky', 'is', 'blue', '.'],\n",
    "                       ['leaves', 'are', 'green', '.'],\n",
    "                       ['roses', 'are', 'red', '.']]\n",
    "get_words_with_nplus_frequency(tokenized_sentences, 2)"
   ]
  },
  {
   "cell_type": "markdown",
   "metadata": {},
   "source": [
    "Expected answer:\n",
    "\n",
    "```\n",
    "['.', 'are']\n",
    "```"
   ]
  },
  {
   "cell_type": "markdown",
   "metadata": {},
   "source": [
    "The words that appear n times or more are treated as our \"vocabulary\" and all other words are regarded as unknown.\n",
    "Hence, we will replace words not in our vocabulary by a marker \"<unk\\>\"."
   ]
  },
  {
   "cell_type": "code",
   "execution_count": 49,
   "metadata": {
    "ExecuteTime": {
     "end_time": "2024-03-12T00:20:00.496354Z",
     "start_time": "2024-03-12T00:20:00.406465Z"
    }
   },
   "outputs": [],
   "source": [
    "### To be completed: replace_oov_words_by_unk ###\n",
    "def replace_oov_words_by_unk(tokenized_sentences, vocabulary, unknown_marker=\"<unk>\"):\n",
    "    \"\"\"\n",
    "    Replace words not in the given vocabulary by unknown marker\n",
    "    \n",
    "    Args:\n",
    "        tokenized_sentences: List of lists of strings\n",
    "        vocabulary: List of strings that we will use\n",
    "        unknown_marker: A string representing unknown (out-of-vocabulary) words\n",
    "    \n",
    "    Returns:\n",
    "        List of lists of strings, with words not in the vocabulary replaced\n",
    "    \"\"\"\n",
    "    vocabulary = set(vocabulary)  # this makes each search faster\n",
    "    replaced_sentences = [[word if word in vocabulary else unknown_marker for word in sentence]\n",
    "                          for sentence in tokenized_sentences]\n",
    "    return replaced_sentences"
   ]
  },
  {
   "cell_type": "code",
   "execution_count": 50,
   "metadata": {
    "ExecuteTime": {
     "end_time": "2024-03-12T00:20:00.496704Z",
     "start_time": "2024-03-12T00:20:00.410258Z"
    }
   },
   "outputs": [
    {
     "data": {
      "text/plain": "[['dogs', '<unk>'], ['<unk>', 'sleep']]"
     },
     "execution_count": 50,
     "metadata": {},
     "output_type": "execute_result"
    }
   ],
   "source": [
    "tokenized_sentences = [[\"dogs\", \"run\"], [\"cats\", \"sleep\"]]\n",
    "vocabulary = [\"dogs\", \"sleep\"]\n",
    "replace_oov_words_by_unk(tokenized_sentences, vocabulary)"
   ]
  },
  {
   "cell_type": "markdown",
   "metadata": {},
   "source": [
    "Expected answer:\n",
    "\n",
    "```\n",
    "['dogs', '<unk>'], ['<unk>', 'sleep']]\n",
    "```"
   ]
  },
  {
   "cell_type": "markdown",
   "metadata": {},
   "source": [
    "Now we are ready to process our data combining the functions defined above.\n",
    "Specifically, we will\n",
    "\n",
    "1. Find tokens that appear at least N times in the training data.\n",
    "1. Replace tokens that appear less than N times by \"<unk\\>\" both for training and test data."
   ]
  },
  {
   "cell_type": "code",
   "execution_count": 51,
   "metadata": {
    "ExecuteTime": {
     "end_time": "2024-03-12T00:20:00.496839Z",
     "start_time": "2024-03-12T00:20:00.413378Z"
    }
   },
   "outputs": [],
   "source": [
    "### To be completed: preprocess_data ###\n",
    "def preprocess_data(train_data, test_data, minimum_freq):\n",
    "    \"\"\"\n",
    "    Preprocess data, i.e.,\n",
    "        - Find tokens that appear at least N times in the training data.\n",
    "        - Replace tokens that appear less than N times by \"<unk>\" both for training and test data.        \n",
    "    Args:\n",
    "        train_data, test_data: List of lists of strings.\n",
    "        minimum_freq: Minimum frequency. Words that appear less than this times will be \n",
    "                      treated as unknown.\n",
    "    \n",
    "    Returns:\n",
    "        Tuple of\n",
    "        - training data with low frequent words replaced by \"<unk>\"\n",
    "        - test data with low frequent words replaced by \"<unk>\"\n",
    "        - vocabulary of words that appear n times or more in the training data\n",
    "    \"\"\"\n",
    "    # Get vocabulary\n",
    "    vocabulary = get_words_with_nplus_frequency(train_data, minimum_freq)\n",
    "\n",
    "    # Replace OOV words by <unk>\n",
    "    train_replaced = replace_oov_words_by_unk(train_data, vocabulary)\n",
    "    test_replaced = replace_oov_words_by_unk(test_data, vocabulary)\n",
    "\n",
    "    return train_replaced, test_replaced, vocabulary"
   ]
  },
  {
   "cell_type": "code",
   "execution_count": 52,
   "metadata": {
    "ExecuteTime": {
     "end_time": "2024-03-12T00:20:00.498470Z",
     "start_time": "2024-03-12T00:20:00.416710Z"
    }
   },
   "outputs": [
    {
     "data": {
      "text/plain": "([['sky', 'is', 'blue', '.'], ['leaves', 'are', 'green']],\n [['<unk>', 'are', '<unk>', '.']],\n ['sky', 'is', 'blue', '.', 'leaves', 'are', 'green'])"
     },
     "execution_count": 52,
     "metadata": {},
     "output_type": "execute_result"
    }
   ],
   "source": [
    "# test your code\n",
    "x = [['sky', 'is', 'blue', '.'],\n",
    "     ['leaves', 'are', 'green']]\n",
    "y = [['roses', 'are', 'red', '.']]\n",
    "\n",
    "preprocess_data(x, y, 1)"
   ]
  },
  {
   "cell_type": "markdown",
   "metadata": {},
   "source": [
    "Expected outcome:\n",
    "\n",
    "```\n",
    "([['sky', 'is', 'blue', '.'], ['leaves', 'are', 'green']],\n",
    " [['<unk>', 'are', '<unk>', '.']],\n",
    " ['sky', 'is', 'blue', '.', 'leaves', 'are', 'green'])\n",
    "```"
   ]
  },
  {
   "cell_type": "markdown",
   "metadata": {},
   "source": [
    "Finally, run the cell below to complete the preprocessing both for training and test sets."
   ]
  },
  {
   "cell_type": "code",
   "execution_count": 53,
   "metadata": {
    "ExecuteTime": {
     "end_time": "2024-03-12T00:20:13.784913Z",
     "start_time": "2024-03-12T00:20:00.480777Z"
    }
   },
   "outputs": [],
   "source": [
    "minimum_freq = 2\n",
    "train_data_processed, test_data_processed, vocabulary = preprocess_data(\n",
    "    train_data, test_data, minimum_freq)"
   ]
  },
  {
   "cell_type": "code",
   "execution_count": 54,
   "metadata": {
    "ExecuteTime": {
     "end_time": "2024-03-12T00:20:13.789702Z",
     "start_time": "2024-03-12T00:20:13.782794Z"
    }
   },
   "outputs": [
    {
     "name": "stdout",
     "output_type": "stream",
     "text": [
      "First preprocessed training sample:\n",
      "['adam', 'sandler', 'is', 'not', 'being', 'funny', 'on', '#', '<unk>', '.', 'make', 'it', 'stop']\n",
      "First preprocessed test sample:\n",
      "['“', ':', 'dwayne', 'wade', 'accused', 'pacers', 'of', 'excessive', 'celebration', '.', 'the', 'heat', 'would', 'never', 'celebrate', 'before', 'they', 'won', 'anything', '.', '”']\n",
      "First 10 vocabulary:\n",
      "['adam', 'sandler', 'is', 'not', 'being', 'funny', 'on', '#', '.', 'make']\n",
      "Size of vocabulary: 145955\n"
     ]
    }
   ],
   "source": [
    "print(\"First preprocessed training sample:\")\n",
    "print(train_data_processed[0])\n",
    "\n",
    "print(\"First preprocessed test sample:\")\n",
    "print(test_data_processed[0])\n",
    "\n",
    "print(\"First 10 vocabulary:\")\n",
    "print(vocabulary[0:10])\n",
    "\n",
    "print(\"Size of vocabulary:\", len(vocabulary))"
   ]
  },
  {
   "cell_type": "markdown",
   "metadata": {},
   "source": [
    "You are done with the preprocessing section of the assignment.\n",
    "Objects `train_data_processed`, `test_data_processed`, are `vocabulary` to be used in the rest of the exercises."
   ]
  },
  {
   "cell_type": "markdown",
   "metadata": {},
   "source": [
    "## Part 2: Develop n-gram based language models\n",
    "\n",
    "In this section, we will develop language models using the data prepared in the previous section.\n",
    "Our modelling strategy is **n-grams**; we assume the probability of the next word depends only on the previous n-gram (i.e., $n$ words). \n",
    "Mathematically, we can write the conditional probability for the t-th word as:\n",
    "\n",
    "$$ P(w_t | w_{t-1}\\dots w_{t-n}) \\tag{1}$$\n",
    "\n",
    "where $w_t$ denotes the $t$-th word in a sentence.\n",
    "\n",
    "We will estimate this probability from the training data.\n",
    "A natural estimator for the probability is the fraction of counts: \n",
    "\n",
    "$$ \\hat{P}(w_t | w_{t-1}\\dots w_{t-n}) = \\frac{C(w_{t-1}\\dots w_{t-n}, w_n)}{C(w_{t-1}\\dots w_{t-n})} \\tag{2} $$\n",
    "\n",
    "where $C(\\cdots)$ denotes the number of occurence of the given sequence. $\\hat{P}$ means the estimation of $P$. Notice that denominator of the equation (2) is the number of occurence of the previous $n$ words, and the numerator is the same sequence followed by the word $w_t$.\n",
    "\n",
    "As covered in the lecture, we will later modify the equation (2) by adding k-smoothing, which avoid errors in zero count cases.\n",
    "\n",
    "The equation (2) tells us that to estimate probabilities based on n-grams, we need the counts of n-grams (for denominator) and (n+1)-grams (for numerator).\n",
    "So, in the next cell, you will implement a function that computes the counts of n-grams for an arbitrary $n$."
   ]
  },
  {
   "cell_type": "markdown",
   "metadata": {},
   "source": [
    "When computing the counts for n-grams, we prepend $n-1$ starting markers \"<s\\>\" to indicate the beginning of the sentence.  For example, in the bi-gram model, a sequence \"<s\\><s\\>\" should predict the first word of a sentence.\n",
    "We also append a ending marker \"<e\\>\" so that the model can predict when to finish a sentence.\n",
    "\n",
    "Technical note: In this implementation, we will store the counts as a dictionary that maps a tuple of n words to the number of occurence.  The reason why we use tuple instead of list is because a list in Python is mutable object, and hence it is not intended to be used as a key to a dictionary."
   ]
  },
  {
   "cell_type": "code",
   "execution_count": 55,
   "metadata": {
    "ExecuteTime": {
     "end_time": "2024-03-12T00:20:13.789909Z",
     "start_time": "2024-03-12T00:20:13.786882Z"
    }
   },
   "outputs": [],
   "source": [
    "### To be completed: count_n_grams ###\n",
    "def count_n_grams(data, n):\n",
    "    \"\"\"\n",
    "    Count all n-grams in the data\n",
    "    \n",
    "    Args:\n",
    "        data: List of lists of words\n",
    "        n: number of words in a sequence\n",
    "    \n",
    "    Returns:\n",
    "        A dictionary that maps a tuple of n-words to its frequency\n",
    "    \"\"\"\n",
    "    n_grams = {}\n",
    "    for sentence in data:\n",
    "        # prepend <s> n times and append <s>\n",
    "        sentence = [\"<s>\"]*n + sentence + [\"<e>\"]\n",
    "        # convert list to tuple for using sequence as dictionary keys\n",
    "        sentence = tuple(sentence)\n",
    "        for i in range(len(sentence) - n + 1):\n",
    "            n_gram = sentence[i:i+n]\n",
    "            n_grams[n_gram] = n_grams.get(n_gram, 0) + 1\n",
    "        \n",
    "    return n_grams"
   ]
  },
  {
   "cell_type": "code",
   "execution_count": 56,
   "metadata": {
    "ExecuteTime": {
     "end_time": "2024-03-12T00:20:13.800020Z",
     "start_time": "2024-03-12T00:20:13.787539Z"
    }
   },
   "outputs": [
    {
     "name": "stdout",
     "output_type": "stream",
     "text": [
      "Uni-gram:\n",
      "{('<s>',): 2, ('i',): 1, ('like',): 2, ('a',): 2, ('cat',): 2, ('<e>',): 2, ('this',): 1, ('dog',): 1, ('is',): 1}\n",
      "Bi-gram:\n",
      "{('<s>', '<s>'): 2, ('<s>', 'i'): 1, ('i', 'like'): 1, ('like', 'a'): 2, ('a', 'cat'): 2, ('cat', '<e>'): 2, ('<s>', 'this'): 1, ('this', 'dog'): 1, ('dog', 'is'): 1, ('is', 'like'): 1}\n"
     ]
    }
   ],
   "source": [
    "# test your code\n",
    "# Outcome does not match expected outcome\n",
    "sentences = [['i', 'like', 'a', 'cat'],\n",
    "             ['this', 'dog', 'is', 'like', 'a', 'cat']]\n",
    "print(\"Uni-gram:\")\n",
    "print(count_n_grams(sentences, 1))\n",
    "print(\"Bi-gram:\")\n",
    "print(count_n_grams(sentences, 2))"
   ]
  },
  {
   "cell_type": "markdown",
   "metadata": {},
   "source": [
    "Expected outcome:\n",
    "\n",
    "```\n",
    "Uni-gram:\n",
    "{('<s>',): 2, ('i',): 1, ('like',): 2, ('a',): 2, ('cat',): 2, ('<e>',): 2, ('this',): 1, ('dog',): 1, ('is',): 1}\n",
    "Bi-gram:\n",
    "{('<s>', '<s>'): 2, ('<s>', 'i'): 1, ('i', 'like'): 1, ('like', 'a'): 2, ('a', 'cat'): 2, ('cat', '<e>'): 2, ('<s>', 'this'): 1, ('this', 'dog'): 1, ('dog', 'is'): 1, ('is', 'like'): 1}\n",
    "```"
   ]
  },
  {
   "cell_type": "markdown",
   "metadata": {},
   "source": [
    "Next, we estimate the probability using the n-gram counts.\n",
    "We show the equation (2) again here:\n",
    "\n",
    "$$ \\hat{P}(w_t | w_{t-1}\\dots w_{t-n}) = \\frac{C(w_{t-1}\\dots w_{t-n}, w_n)}{C(w_{t-1}\\dots w_{t-n})} \\tag{2} $$\n",
    "\n",
    "While this is a natural estimator, it has limitation in dealing with zero count cases.\n",
    "Suppose we encounter an n-gram that did not occur in the training data.  Then, the equation (2) cannot be evaluated (it becomes zero divided by zero).\n",
    "A way to avoid such case is to add k-smoothing.  In effect, it adds a positive constant $k$ to each numerator counts in the equation (2):\n",
    "\n",
    "$$ \\hat{P}(w_t | w_{t-1}\\dots w_{t-n}) = \\frac{C(w_{t-1}\\dots w_{t-n}, w_n) + k}{C(w_{t-1}\\dots w_{t-n}) + k|V|} \\tag{3} $$\n",
    "\n",
    "where $|V|$ is the size of vocabulary.\n",
    "\n",
    "For unseen n-grams, the equation (3) becomes $1/|V|$, i.e. picks all words with the same probability.\n",
    "\n",
    "In the next cell, you will define a function that computes the probability estimate (3) from n-gram counts and a constant $k$.\n",
    "\n",
    "Hint: In the imprementation, we use pre-computed n-gram and (n+1)-gram counts for calculating the equation (3). "
   ]
  },
  {
   "cell_type": "code",
   "execution_count": 57,
   "metadata": {
    "ExecuteTime": {
     "end_time": "2024-03-12T00:20:13.824388Z",
     "start_time": "2024-03-12T00:20:13.790586Z"
    }
   },
   "outputs": [],
   "source": [
    "### To be completed: estimate_probabilityy ###\n",
    "def estimate_probability(word, previous_n_gram, \n",
    "                         n_gram_counts, n_plus1_gram_counts, vocabulary_size, k=1.0):\n",
    "    \"\"\"\n",
    "    Estimate the probabilities of a next word using the n-gram counts with k-smoothing\n",
    "    \n",
    "    Args:\n",
    "        word: next word\n",
    "        previous_n_gram: A sequence of words of length n\n",
    "        n_gram_counts: Dictionary of counts of (n+1)-grams\n",
    "        n_plus1_gram_counts: Dictionary of counts of (n+1)-grams\n",
    "        vocabulary_size: number of words in the vocabulary\n",
    "        k: positive constant, smoothing parameter\n",
    "    \n",
    "    Returns:\n",
    "        A probability\n",
    "    \"\"\"\n",
    "    previous_n_gram = tuple(previous_n_gram)\n",
    "\n",
    "    previous_n_gram_count = n_gram_counts.get(previous_n_gram, 0)\n",
    "    denominator = previous_n_gram_count + k * vocabulary_size\n",
    "\n",
    "    n_plus1_gram = previous_n_gram + (word,)\n",
    "    n_plus1_gram_count = n_plus1_gram_counts.get(n_plus1_gram, 0)\n",
    "\n",
    "    numerator = n_plus1_gram_count + k\n",
    "\n",
    "    return numerator / denominator"
   ]
  },
  {
   "cell_type": "code",
   "execution_count": 58,
   "metadata": {
    "ExecuteTime": {
     "end_time": "2024-03-12T00:20:13.847623Z",
     "start_time": "2024-03-12T00:20:13.793959Z"
    }
   },
   "outputs": [
    {
     "data": {
      "text/plain": "0.3333333333333333"
     },
     "execution_count": 58,
     "metadata": {},
     "output_type": "execute_result"
    }
   ],
   "source": [
    "# test your code\n",
    "sentences = [['i', 'like', 'a', 'cat'],\n",
    "             ['this', 'dog', 'is', 'like', 'a', 'cat']]\n",
    "unique_words = list(set(sentences[0] + sentences[1]))\n",
    "\n",
    "unigram_counts = count_n_grams(sentences, 1)\n",
    "bigram_counts = count_n_grams(sentences, 2)\n",
    "estimate_probability(\"cat\", \"a\", unigram_counts, bigram_counts, len(unique_words), k=1)"
   ]
  },
  {
   "cell_type": "markdown",
   "metadata": {},
   "source": [
    "Expected outcome:\n",
    "\n",
    "```\n",
    "0.3333333333333333\n",
    "```"
   ]
  },
  {
   "cell_type": "markdown",
   "metadata": {},
   "source": [
    "The function defined below loops over all words in vocabulary to calculate probabilities for all possible words."
   ]
  },
  {
   "cell_type": "code",
   "execution_count": 59,
   "metadata": {
    "ExecuteTime": {
     "end_time": "2024-03-12T00:20:13.858631Z",
     "start_time": "2024-03-12T00:20:13.797481Z"
    }
   },
   "outputs": [],
   "source": [
    "def estimate_probabilities(previous_n_gram, n_gram_counts, n_plus1_gram_counts, vocabulary, k=1.0):\n",
    "    \"\"\"\n",
    "    Estimate the probabilities of next words using the n-gram counts with k-smoothing\n",
    "    \n",
    "    Args:\n",
    "        previous_n_gram: A sequence of words of length n\n",
    "        n_gram_counts: Dictionary of counts of (n+1)-grams\n",
    "        n_plus1_gram_counts: Dictionary of counts of (n+1)-grams\n",
    "        vocabulary: List of words\n",
    "        k: positive constant, smoothing parameter\n",
    "    \n",
    "    Returns:\n",
    "        A dictionary mapping from next words to the probability.\n",
    "    \"\"\"\n",
    "    # convert list to tuple to use it as a dictionary key\n",
    "    previous_n_gram = tuple(previous_n_gram)\n",
    "    \n",
    "    # add <e> <unk> to the vocabulary\n",
    "    # <s> is not needed since it should not appear as the next word\n",
    "    vocabulary = vocabulary + [\"<e>\", \"<unk>\"]\n",
    "    vocabulary_size = len(vocabulary)\n",
    "    \n",
    "    probabilities = {}\n",
    "    for word in vocabulary:\n",
    "        probability = estimate_probability(word, previous_n_gram, \n",
    "                                           n_gram_counts, n_plus1_gram_counts, \n",
    "                                           vocabulary_size, k=k)\n",
    "        probabilities[word] = probability\n",
    "\n",
    "    return probabilities"
   ]
  },
  {
   "cell_type": "code",
   "execution_count": 60,
   "metadata": {
    "ExecuteTime": {
     "end_time": "2024-03-12T00:20:13.870944Z",
     "start_time": "2024-03-12T00:20:13.800504Z"
    }
   },
   "outputs": [
    {
     "data": {
      "text/plain": "{'this': 0.09090909090909091,\n 'dog': 0.09090909090909091,\n 'is': 0.09090909090909091,\n 'like': 0.09090909090909091,\n 'i': 0.09090909090909091,\n 'a': 0.09090909090909091,\n 'cat': 0.2727272727272727,\n '<e>': 0.09090909090909091,\n '<unk>': 0.09090909090909091}"
     },
     "execution_count": 60,
     "metadata": {},
     "output_type": "execute_result"
    }
   ],
   "source": [
    "# test your code\n",
    "sentences = [['i', 'like', 'a', 'cat'],\n",
    "             ['this', 'dog', 'is', 'like', 'a', 'cat']]\n",
    "unique_words = list(set(sentences[0] + sentences[1]))\n",
    "unigram_counts = count_n_grams(sentences, 1)\n",
    "bigram_counts = count_n_grams(sentences, 2)\n",
    "estimate_probabilities(\"a\", unigram_counts, bigram_counts, unique_words, k=1)"
   ]
  },
  {
   "cell_type": "markdown",
   "metadata": {},
   "source": [
    "Expected outcome:\n",
    "\n",
    "```\n",
    "{'is': 0.09090909090909091,\n",
    " 'like': 0.09090909090909091,\n",
    " 'dog': 0.09090909090909091,\n",
    " 'cat': 0.2727272727272727,\n",
    " 'i': 0.09090909090909091,\n",
    " 'a': 0.09090909090909091,\n",
    " 'this': 0.09090909090909091,\n",
    " '<e>': 0.09090909090909091,\n",
    " '<unk>': 0.09090909090909091}\n",
    "```"
   ]
  },
  {
   "cell_type": "code",
   "execution_count": 61,
   "metadata": {
    "ExecuteTime": {
     "end_time": "2024-03-12T00:20:13.871669Z",
     "start_time": "2024-03-12T00:20:13.803218Z"
    }
   },
   "outputs": [
    {
     "data": {
      "text/plain": "{'this': 0.18181818181818182,\n 'dog': 0.09090909090909091,\n 'is': 0.09090909090909091,\n 'like': 0.09090909090909091,\n 'i': 0.18181818181818182,\n 'a': 0.09090909090909091,\n 'cat': 0.09090909090909091,\n '<e>': 0.09090909090909091,\n '<unk>': 0.09090909090909091}"
     },
     "execution_count": 61,
     "metadata": {},
     "output_type": "execute_result"
    }
   ],
   "source": [
    "trigram_counts = count_n_grams(sentences, 3)\n",
    "estimate_probabilities([\"<s>\", \"<s>\"], bigram_counts, trigram_counts, unique_words, k=1)"
   ]
  },
  {
   "cell_type": "markdown",
   "metadata": {},
   "source": [
    "Expected outcome:\n",
    "\n",
    "```\n",
    "{'is': 0.09090909090909091,\n",
    " 'like': 0.09090909090909091,\n",
    " 'dog': 0.09090909090909091,\n",
    " 'cat': 0.09090909090909091,\n",
    " 'i': 0.18181818181818182,\n",
    " 'a': 0.09090909090909091,\n",
    " 'this': 0.18181818181818182,\n",
    " '<e>': 0.09090909090909091,\n",
    " '<unk>': 0.09090909090909091}\n",
    "```"
   ]
  },
  {
   "cell_type": "markdown",
   "metadata": {},
   "source": [
    "### Count and probability matrices\n",
    "\n",
    "As we have seen so far, the n-gram counts computed above are sufficient for computing the probabilities of the nex words.  Yet, it might be more intuitive to present them as count or probability matrices that we covered in the lecture.\n",
    "The functions defined in the next cells return count or probability matrices."
   ]
  },
  {
   "cell_type": "code",
   "execution_count": 62,
   "metadata": {
    "ExecuteTime": {
     "end_time": "2024-03-12T00:20:14.130924Z",
     "start_time": "2024-03-12T00:20:13.816009Z"
    }
   },
   "outputs": [],
   "source": [
    "def make_count_matrix(n_plus1_gram_counts, vocabulary):\n",
    "    # add <e> <unk> to the vocabulary\n",
    "    # <s> is omitted since it should not appear as the next word\n",
    "    vocabulary = vocabulary + [\"<e>\", \"<unk>\"]\n",
    "    \n",
    "    # obtain unique n-grams\n",
    "    n_grams = []\n",
    "    for n_plus1_gram in n_plus1_gram_counts.keys():\n",
    "        n_gram = n_plus1_gram[0:-1]\n",
    "        n_grams.append(n_gram)\n",
    "    n_grams = list(set(n_grams))\n",
    "    \n",
    "    # mapping from n-gram to row\n",
    "    row_index = {n_gram:i for i, n_gram in enumerate(n_grams)}\n",
    "    # mapping from next word to column\n",
    "    col_index = {word:j for j, word in enumerate(vocabulary)}\n",
    "    \n",
    "    nrow = len(n_grams)\n",
    "    ncol = len(vocabulary)\n",
    "    count_matrix = np.zeros((nrow, ncol))\n",
    "    for n_plus1_gram, count in n_plus1_gram_counts.items():\n",
    "        n_gram = n_plus1_gram[0:-1]\n",
    "        word = n_plus1_gram[-1]\n",
    "        if word not in vocabulary:\n",
    "            continue\n",
    "        i = row_index[n_gram]\n",
    "        j = col_index[word]\n",
    "        count_matrix[i, j] = count\n",
    "    \n",
    "    count_matrix = pd.DataFrame(count_matrix, index=n_grams, columns=vocabulary)\n",
    "    return count_matrix"
   ]
  },
  {
   "cell_type": "code",
   "execution_count": 63,
   "metadata": {
    "ExecuteTime": {
     "end_time": "2024-03-12T00:20:14.183234Z",
     "start_time": "2024-03-12T00:20:13.828097Z"
    }
   },
   "outputs": [
    {
     "data": {
      "text/plain": "         this  dog   is  like    i    a  cat  <e>  <unk>\n(i,)      0.0  0.0  0.0   1.0  0.0  0.0  0.0  0.0    0.0\n(this,)   0.0  1.0  0.0   0.0  0.0  0.0  0.0  0.0    0.0\n(a,)      0.0  0.0  0.0   0.0  0.0  0.0  2.0  0.0    0.0\n(dog,)    0.0  0.0  1.0   0.0  0.0  0.0  0.0  0.0    0.0\n(is,)     0.0  0.0  0.0   1.0  0.0  0.0  0.0  0.0    0.0\n(cat,)    0.0  0.0  0.0   0.0  0.0  0.0  0.0  2.0    0.0\n(like,)   0.0  0.0  0.0   0.0  0.0  2.0  0.0  0.0    0.0\n(<s>,)    1.0  0.0  0.0   0.0  1.0  0.0  0.0  0.0    0.0",
      "text/html": "<div>\n<style scoped>\n    .dataframe tbody tr th:only-of-type {\n        vertical-align: middle;\n    }\n\n    .dataframe tbody tr th {\n        vertical-align: top;\n    }\n\n    .dataframe thead th {\n        text-align: right;\n    }\n</style>\n<table border=\"1\" class=\"dataframe\">\n  <thead>\n    <tr style=\"text-align: right;\">\n      <th></th>\n      <th>this</th>\n      <th>dog</th>\n      <th>is</th>\n      <th>like</th>\n      <th>i</th>\n      <th>a</th>\n      <th>cat</th>\n      <th>&lt;e&gt;</th>\n      <th>&lt;unk&gt;</th>\n    </tr>\n  </thead>\n  <tbody>\n    <tr>\n      <th>(i,)</th>\n      <td>0.0</td>\n      <td>0.0</td>\n      <td>0.0</td>\n      <td>1.0</td>\n      <td>0.0</td>\n      <td>0.0</td>\n      <td>0.0</td>\n      <td>0.0</td>\n      <td>0.0</td>\n    </tr>\n    <tr>\n      <th>(this,)</th>\n      <td>0.0</td>\n      <td>1.0</td>\n      <td>0.0</td>\n      <td>0.0</td>\n      <td>0.0</td>\n      <td>0.0</td>\n      <td>0.0</td>\n      <td>0.0</td>\n      <td>0.0</td>\n    </tr>\n    <tr>\n      <th>(a,)</th>\n      <td>0.0</td>\n      <td>0.0</td>\n      <td>0.0</td>\n      <td>0.0</td>\n      <td>0.0</td>\n      <td>0.0</td>\n      <td>2.0</td>\n      <td>0.0</td>\n      <td>0.0</td>\n    </tr>\n    <tr>\n      <th>(dog,)</th>\n      <td>0.0</td>\n      <td>0.0</td>\n      <td>1.0</td>\n      <td>0.0</td>\n      <td>0.0</td>\n      <td>0.0</td>\n      <td>0.0</td>\n      <td>0.0</td>\n      <td>0.0</td>\n    </tr>\n    <tr>\n      <th>(is,)</th>\n      <td>0.0</td>\n      <td>0.0</td>\n      <td>0.0</td>\n      <td>1.0</td>\n      <td>0.0</td>\n      <td>0.0</td>\n      <td>0.0</td>\n      <td>0.0</td>\n      <td>0.0</td>\n    </tr>\n    <tr>\n      <th>(cat,)</th>\n      <td>0.0</td>\n      <td>0.0</td>\n      <td>0.0</td>\n      <td>0.0</td>\n      <td>0.0</td>\n      <td>0.0</td>\n      <td>0.0</td>\n      <td>2.0</td>\n      <td>0.0</td>\n    </tr>\n    <tr>\n      <th>(like,)</th>\n      <td>0.0</td>\n      <td>0.0</td>\n      <td>0.0</td>\n      <td>0.0</td>\n      <td>0.0</td>\n      <td>2.0</td>\n      <td>0.0</td>\n      <td>0.0</td>\n      <td>0.0</td>\n    </tr>\n    <tr>\n      <th>(&lt;s&gt;,)</th>\n      <td>1.0</td>\n      <td>0.0</td>\n      <td>0.0</td>\n      <td>0.0</td>\n      <td>1.0</td>\n      <td>0.0</td>\n      <td>0.0</td>\n      <td>0.0</td>\n      <td>0.0</td>\n    </tr>\n  </tbody>\n</table>\n</div>"
     },
     "metadata": {},
     "output_type": "display_data"
    },
    {
     "data": {
      "text/plain": "             this  dog   is  like    i    a  cat  <e>  <unk>\n(a, cat)      0.0  0.0  0.0   0.0  0.0  0.0  0.0  2.0    0.0\n(like, a)     0.0  0.0  0.0   0.0  0.0  0.0  2.0  0.0    0.0\n(this, dog)   0.0  0.0  1.0   0.0  0.0  0.0  0.0  0.0    0.0\n(<s>, <s>)    1.0  0.0  0.0   0.0  1.0  0.0  0.0  0.0    0.0\n(dog, is)     0.0  0.0  0.0   1.0  0.0  0.0  0.0  0.0    0.0\n(i, like)     0.0  0.0  0.0   0.0  0.0  1.0  0.0  0.0    0.0\n(<s>, this)   0.0  1.0  0.0   0.0  0.0  0.0  0.0  0.0    0.0\n(<s>, i)      0.0  0.0  0.0   1.0  0.0  0.0  0.0  0.0    0.0\n(is, like)    0.0  0.0  0.0   0.0  0.0  1.0  0.0  0.0    0.0",
      "text/html": "<div>\n<style scoped>\n    .dataframe tbody tr th:only-of-type {\n        vertical-align: middle;\n    }\n\n    .dataframe tbody tr th {\n        vertical-align: top;\n    }\n\n    .dataframe thead th {\n        text-align: right;\n    }\n</style>\n<table border=\"1\" class=\"dataframe\">\n  <thead>\n    <tr style=\"text-align: right;\">\n      <th></th>\n      <th>this</th>\n      <th>dog</th>\n      <th>is</th>\n      <th>like</th>\n      <th>i</th>\n      <th>a</th>\n      <th>cat</th>\n      <th>&lt;e&gt;</th>\n      <th>&lt;unk&gt;</th>\n    </tr>\n  </thead>\n  <tbody>\n    <tr>\n      <th>(a, cat)</th>\n      <td>0.0</td>\n      <td>0.0</td>\n      <td>0.0</td>\n      <td>0.0</td>\n      <td>0.0</td>\n      <td>0.0</td>\n      <td>0.0</td>\n      <td>2.0</td>\n      <td>0.0</td>\n    </tr>\n    <tr>\n      <th>(like, a)</th>\n      <td>0.0</td>\n      <td>0.0</td>\n      <td>0.0</td>\n      <td>0.0</td>\n      <td>0.0</td>\n      <td>0.0</td>\n      <td>2.0</td>\n      <td>0.0</td>\n      <td>0.0</td>\n    </tr>\n    <tr>\n      <th>(this, dog)</th>\n      <td>0.0</td>\n      <td>0.0</td>\n      <td>1.0</td>\n      <td>0.0</td>\n      <td>0.0</td>\n      <td>0.0</td>\n      <td>0.0</td>\n      <td>0.0</td>\n      <td>0.0</td>\n    </tr>\n    <tr>\n      <th>(&lt;s&gt;, &lt;s&gt;)</th>\n      <td>1.0</td>\n      <td>0.0</td>\n      <td>0.0</td>\n      <td>0.0</td>\n      <td>1.0</td>\n      <td>0.0</td>\n      <td>0.0</td>\n      <td>0.0</td>\n      <td>0.0</td>\n    </tr>\n    <tr>\n      <th>(dog, is)</th>\n      <td>0.0</td>\n      <td>0.0</td>\n      <td>0.0</td>\n      <td>1.0</td>\n      <td>0.0</td>\n      <td>0.0</td>\n      <td>0.0</td>\n      <td>0.0</td>\n      <td>0.0</td>\n    </tr>\n    <tr>\n      <th>(i, like)</th>\n      <td>0.0</td>\n      <td>0.0</td>\n      <td>0.0</td>\n      <td>0.0</td>\n      <td>0.0</td>\n      <td>1.0</td>\n      <td>0.0</td>\n      <td>0.0</td>\n      <td>0.0</td>\n    </tr>\n    <tr>\n      <th>(&lt;s&gt;, this)</th>\n      <td>0.0</td>\n      <td>1.0</td>\n      <td>0.0</td>\n      <td>0.0</td>\n      <td>0.0</td>\n      <td>0.0</td>\n      <td>0.0</td>\n      <td>0.0</td>\n      <td>0.0</td>\n    </tr>\n    <tr>\n      <th>(&lt;s&gt;, i)</th>\n      <td>0.0</td>\n      <td>0.0</td>\n      <td>0.0</td>\n      <td>1.0</td>\n      <td>0.0</td>\n      <td>0.0</td>\n      <td>0.0</td>\n      <td>0.0</td>\n      <td>0.0</td>\n    </tr>\n    <tr>\n      <th>(is, like)</th>\n      <td>0.0</td>\n      <td>0.0</td>\n      <td>0.0</td>\n      <td>0.0</td>\n      <td>0.0</td>\n      <td>1.0</td>\n      <td>0.0</td>\n      <td>0.0</td>\n      <td>0.0</td>\n    </tr>\n  </tbody>\n</table>\n</div>"
     },
     "metadata": {},
     "output_type": "display_data"
    }
   ],
   "source": [
    "sentences = [['i', 'like', 'a', 'cat'],\n",
    "                 ['this', 'dog', 'is', 'like', 'a', 'cat']]\n",
    "unique_words = list(set(sentences[0] + sentences[1]))\n",
    "bigram_counts = count_n_grams(sentences, 2)\n",
    "display(make_count_matrix(bigram_counts, unique_words))\n",
    "\n",
    "trigram_counts = count_n_grams(sentences, 3)\n",
    "display(make_count_matrix(trigram_counts, unique_words))"
   ]
  },
  {
   "cell_type": "code",
   "execution_count": 64,
   "metadata": {
    "ExecuteTime": {
     "end_time": "2024-03-12T00:20:14.183598Z",
     "start_time": "2024-03-12T00:20:13.834875Z"
    }
   },
   "outputs": [],
   "source": [
    "def make_probability_matrix(n_plus1_gram_counts, vocabulary, k):\n",
    "    count_matrix = make_count_matrix(n_plus1_gram_counts, unique_words)\n",
    "    count_matrix += k\n",
    "    prob_matrix = count_matrix.div(count_matrix.sum(axis=1), axis=0)\n",
    "    return prob_matrix"
   ]
  },
  {
   "cell_type": "code",
   "execution_count": 65,
   "metadata": {
    "ExecuteTime": {
     "end_time": "2024-03-12T00:20:14.229545Z",
     "start_time": "2024-03-12T00:20:13.844711Z"
    }
   },
   "outputs": [
    {
     "data": {
      "text/plain": "             this       dog        is      like         i         a       cat  \\\n(i,)     0.100000  0.100000  0.100000  0.200000  0.100000  0.100000  0.100000   \n(this,)  0.100000  0.200000  0.100000  0.100000  0.100000  0.100000  0.100000   \n(a,)     0.090909  0.090909  0.090909  0.090909  0.090909  0.090909  0.272727   \n(dog,)   0.100000  0.100000  0.200000  0.100000  0.100000  0.100000  0.100000   \n(is,)    0.100000  0.100000  0.100000  0.200000  0.100000  0.100000  0.100000   \n(cat,)   0.090909  0.090909  0.090909  0.090909  0.090909  0.090909  0.090909   \n(like,)  0.090909  0.090909  0.090909  0.090909  0.090909  0.272727  0.090909   \n(<s>,)   0.181818  0.090909  0.090909  0.090909  0.181818  0.090909  0.090909   \n\n              <e>     <unk>  \n(i,)     0.100000  0.100000  \n(this,)  0.100000  0.100000  \n(a,)     0.090909  0.090909  \n(dog,)   0.100000  0.100000  \n(is,)    0.100000  0.100000  \n(cat,)   0.272727  0.090909  \n(like,)  0.090909  0.090909  \n(<s>,)   0.090909  0.090909  ",
      "text/html": "<div>\n<style scoped>\n    .dataframe tbody tr th:only-of-type {\n        vertical-align: middle;\n    }\n\n    .dataframe tbody tr th {\n        vertical-align: top;\n    }\n\n    .dataframe thead th {\n        text-align: right;\n    }\n</style>\n<table border=\"1\" class=\"dataframe\">\n  <thead>\n    <tr style=\"text-align: right;\">\n      <th></th>\n      <th>this</th>\n      <th>dog</th>\n      <th>is</th>\n      <th>like</th>\n      <th>i</th>\n      <th>a</th>\n      <th>cat</th>\n      <th>&lt;e&gt;</th>\n      <th>&lt;unk&gt;</th>\n    </tr>\n  </thead>\n  <tbody>\n    <tr>\n      <th>(i,)</th>\n      <td>0.100000</td>\n      <td>0.100000</td>\n      <td>0.100000</td>\n      <td>0.200000</td>\n      <td>0.100000</td>\n      <td>0.100000</td>\n      <td>0.100000</td>\n      <td>0.100000</td>\n      <td>0.100000</td>\n    </tr>\n    <tr>\n      <th>(this,)</th>\n      <td>0.100000</td>\n      <td>0.200000</td>\n      <td>0.100000</td>\n      <td>0.100000</td>\n      <td>0.100000</td>\n      <td>0.100000</td>\n      <td>0.100000</td>\n      <td>0.100000</td>\n      <td>0.100000</td>\n    </tr>\n    <tr>\n      <th>(a,)</th>\n      <td>0.090909</td>\n      <td>0.090909</td>\n      <td>0.090909</td>\n      <td>0.090909</td>\n      <td>0.090909</td>\n      <td>0.090909</td>\n      <td>0.272727</td>\n      <td>0.090909</td>\n      <td>0.090909</td>\n    </tr>\n    <tr>\n      <th>(dog,)</th>\n      <td>0.100000</td>\n      <td>0.100000</td>\n      <td>0.200000</td>\n      <td>0.100000</td>\n      <td>0.100000</td>\n      <td>0.100000</td>\n      <td>0.100000</td>\n      <td>0.100000</td>\n      <td>0.100000</td>\n    </tr>\n    <tr>\n      <th>(is,)</th>\n      <td>0.100000</td>\n      <td>0.100000</td>\n      <td>0.100000</td>\n      <td>0.200000</td>\n      <td>0.100000</td>\n      <td>0.100000</td>\n      <td>0.100000</td>\n      <td>0.100000</td>\n      <td>0.100000</td>\n    </tr>\n    <tr>\n      <th>(cat,)</th>\n      <td>0.090909</td>\n      <td>0.090909</td>\n      <td>0.090909</td>\n      <td>0.090909</td>\n      <td>0.090909</td>\n      <td>0.090909</td>\n      <td>0.090909</td>\n      <td>0.272727</td>\n      <td>0.090909</td>\n    </tr>\n    <tr>\n      <th>(like,)</th>\n      <td>0.090909</td>\n      <td>0.090909</td>\n      <td>0.090909</td>\n      <td>0.090909</td>\n      <td>0.090909</td>\n      <td>0.272727</td>\n      <td>0.090909</td>\n      <td>0.090909</td>\n      <td>0.090909</td>\n    </tr>\n    <tr>\n      <th>(&lt;s&gt;,)</th>\n      <td>0.181818</td>\n      <td>0.090909</td>\n      <td>0.090909</td>\n      <td>0.090909</td>\n      <td>0.181818</td>\n      <td>0.090909</td>\n      <td>0.090909</td>\n      <td>0.090909</td>\n      <td>0.090909</td>\n    </tr>\n  </tbody>\n</table>\n</div>"
     },
     "metadata": {},
     "output_type": "display_data"
    },
    {
     "data": {
      "text/plain": "                 this       dog        is      like         i         a  \\\n(a, cat)     0.090909  0.090909  0.090909  0.090909  0.090909  0.090909   \n(like, a)    0.090909  0.090909  0.090909  0.090909  0.090909  0.090909   \n(this, dog)  0.100000  0.100000  0.200000  0.100000  0.100000  0.100000   \n(<s>, <s>)   0.181818  0.090909  0.090909  0.090909  0.181818  0.090909   \n(dog, is)    0.100000  0.100000  0.100000  0.200000  0.100000  0.100000   \n(i, like)    0.100000  0.100000  0.100000  0.100000  0.100000  0.200000   \n(<s>, this)  0.100000  0.200000  0.100000  0.100000  0.100000  0.100000   \n(<s>, i)     0.100000  0.100000  0.100000  0.200000  0.100000  0.100000   \n(is, like)   0.100000  0.100000  0.100000  0.100000  0.100000  0.200000   \n\n                  cat       <e>     <unk>  \n(a, cat)     0.090909  0.272727  0.090909  \n(like, a)    0.272727  0.090909  0.090909  \n(this, dog)  0.100000  0.100000  0.100000  \n(<s>, <s>)   0.090909  0.090909  0.090909  \n(dog, is)    0.100000  0.100000  0.100000  \n(i, like)    0.100000  0.100000  0.100000  \n(<s>, this)  0.100000  0.100000  0.100000  \n(<s>, i)     0.100000  0.100000  0.100000  \n(is, like)   0.100000  0.100000  0.100000  ",
      "text/html": "<div>\n<style scoped>\n    .dataframe tbody tr th:only-of-type {\n        vertical-align: middle;\n    }\n\n    .dataframe tbody tr th {\n        vertical-align: top;\n    }\n\n    .dataframe thead th {\n        text-align: right;\n    }\n</style>\n<table border=\"1\" class=\"dataframe\">\n  <thead>\n    <tr style=\"text-align: right;\">\n      <th></th>\n      <th>this</th>\n      <th>dog</th>\n      <th>is</th>\n      <th>like</th>\n      <th>i</th>\n      <th>a</th>\n      <th>cat</th>\n      <th>&lt;e&gt;</th>\n      <th>&lt;unk&gt;</th>\n    </tr>\n  </thead>\n  <tbody>\n    <tr>\n      <th>(a, cat)</th>\n      <td>0.090909</td>\n      <td>0.090909</td>\n      <td>0.090909</td>\n      <td>0.090909</td>\n      <td>0.090909</td>\n      <td>0.090909</td>\n      <td>0.090909</td>\n      <td>0.272727</td>\n      <td>0.090909</td>\n    </tr>\n    <tr>\n      <th>(like, a)</th>\n      <td>0.090909</td>\n      <td>0.090909</td>\n      <td>0.090909</td>\n      <td>0.090909</td>\n      <td>0.090909</td>\n      <td>0.090909</td>\n      <td>0.272727</td>\n      <td>0.090909</td>\n      <td>0.090909</td>\n    </tr>\n    <tr>\n      <th>(this, dog)</th>\n      <td>0.100000</td>\n      <td>0.100000</td>\n      <td>0.200000</td>\n      <td>0.100000</td>\n      <td>0.100000</td>\n      <td>0.100000</td>\n      <td>0.100000</td>\n      <td>0.100000</td>\n      <td>0.100000</td>\n    </tr>\n    <tr>\n      <th>(&lt;s&gt;, &lt;s&gt;)</th>\n      <td>0.181818</td>\n      <td>0.090909</td>\n      <td>0.090909</td>\n      <td>0.090909</td>\n      <td>0.181818</td>\n      <td>0.090909</td>\n      <td>0.090909</td>\n      <td>0.090909</td>\n      <td>0.090909</td>\n    </tr>\n    <tr>\n      <th>(dog, is)</th>\n      <td>0.100000</td>\n      <td>0.100000</td>\n      <td>0.100000</td>\n      <td>0.200000</td>\n      <td>0.100000</td>\n      <td>0.100000</td>\n      <td>0.100000</td>\n      <td>0.100000</td>\n      <td>0.100000</td>\n    </tr>\n    <tr>\n      <th>(i, like)</th>\n      <td>0.100000</td>\n      <td>0.100000</td>\n      <td>0.100000</td>\n      <td>0.100000</td>\n      <td>0.100000</td>\n      <td>0.200000</td>\n      <td>0.100000</td>\n      <td>0.100000</td>\n      <td>0.100000</td>\n    </tr>\n    <tr>\n      <th>(&lt;s&gt;, this)</th>\n      <td>0.100000</td>\n      <td>0.200000</td>\n      <td>0.100000</td>\n      <td>0.100000</td>\n      <td>0.100000</td>\n      <td>0.100000</td>\n      <td>0.100000</td>\n      <td>0.100000</td>\n      <td>0.100000</td>\n    </tr>\n    <tr>\n      <th>(&lt;s&gt;, i)</th>\n      <td>0.100000</td>\n      <td>0.100000</td>\n      <td>0.100000</td>\n      <td>0.200000</td>\n      <td>0.100000</td>\n      <td>0.100000</td>\n      <td>0.100000</td>\n      <td>0.100000</td>\n      <td>0.100000</td>\n    </tr>\n    <tr>\n      <th>(is, like)</th>\n      <td>0.100000</td>\n      <td>0.100000</td>\n      <td>0.100000</td>\n      <td>0.100000</td>\n      <td>0.100000</td>\n      <td>0.200000</td>\n      <td>0.100000</td>\n      <td>0.100000</td>\n      <td>0.100000</td>\n    </tr>\n  </tbody>\n</table>\n</div>"
     },
     "metadata": {},
     "output_type": "display_data"
    }
   ],
   "source": [
    "sentences = [['i', 'like', 'a', 'cat'],\n",
    "                 ['this', 'dog', 'is', 'like', 'a', 'cat']]\n",
    "unique_words = list(set(sentences[0] + sentences[1]))\n",
    "bigram_counts = count_n_grams(sentences, 2)\n",
    "display(make_probability_matrix(bigram_counts, unique_words, k=1))\n",
    "\n",
    "trigram_counts = count_n_grams(sentences, 3)\n",
    "display(make_probability_matrix(trigram_counts, unique_words, k=1))"
   ]
  },
  {
   "cell_type": "markdown",
   "metadata": {},
   "source": [
    "Confirm that we obtain the same results as for the `estimate_probabilities` function above."
   ]
  },
  {
   "cell_type": "markdown",
   "metadata": {},
   "source": [
    "## Part 3: Perplexity\n",
    "\n",
    "In this section, you will generate the perplexity score to evaluate your model on the test set. You will also use back-off when needed. Perplexity is used as an evaluation metric of your language model. If you were to calculate the  the perplexity score of your test set, on a bigram model, you compute the following formula: \n",
    "$$ PP(W) =\\sqrt[N]{ \\prod_{t=1}^N \\frac{1}{P(w_t | w_{t-1})} } \\tag{4}$$\n",
    "\n",
    "where $N$ is the length of the sentence.\n",
    "\n",
    "The higher our probabilities are the lower the perplexity will be. The more our n-grams tell us about the sentence the lower our perplexity score will be. \n",
    "\n",
    "</b> \n",
    "<b>Instructions:</b> Compute the perplexity score given an N-gram count matrix and a sentence. "
   ]
  },
  {
   "cell_type": "code",
   "execution_count": 66,
   "metadata": {
    "ExecuteTime": {
     "end_time": "2024-03-12T00:20:14.230037Z",
     "start_time": "2024-03-12T00:20:13.855413Z"
    }
   },
   "outputs": [],
   "source": [
    "# To be completed: calculate_perplexity\n",
    "def calculate_perplexity(sentence, n_gram_counts, n_plus1_gram_counts, vocabulary_size, k=1.0):\n",
    "    \"\"\"\n",
    "    Calculate perplexity for a list of sentences\n",
    "    \n",
    "    Args:\n",
    "        sentence: List of strings\n",
    "        n_gram_counts: Dictionary of counts of (n+1)-grams\n",
    "        n_plus1_gram_counts: Dictionary of counts of (n+1)-grams\n",
    "        vocabulary_size: number of unique words in the vocabulary\n",
    "        k: Positive smoothing constant\n",
    "    \n",
    "    Returns:\n",
    "        Perplexity score\n",
    "    \"\"\"\n",
    "    n = len(list(n_gram_counts.keys())[0])\n",
    "    sentence = [\"<s>\"] * n + sentence + [\"<e>\"]\n",
    "    sentence = tuple(sentence)\n",
    "    N = len(sentence)\n",
    "    p = 1.0\n",
    "\n",
    "    for i in range(N - n):\n",
    "        n_gram = sentence[i:i+n]\n",
    "        word = sentence[i+n]\n",
    "        probability = estimate_probability(word, n_gram, n_gram_counts, n_plus1_gram_counts, vocabulary_size, k)\n",
    "        p *= 1 / probability\n",
    "\n",
    "    perplexity = p**(1/N)\n",
    "    \n",
    "    return perplexity"
   ]
  },
  {
   "cell_type": "code",
   "execution_count": 67,
   "metadata": {
    "ExecuteTime": {
     "end_time": "2024-03-12T00:20:14.235828Z",
     "start_time": "2024-03-12T00:20:13.857046Z"
    }
   },
   "outputs": [
    {
     "name": "stdout",
     "output_type": "stream",
     "text": [
      "Perplexity for first train sample: 2.8039657955522013\n",
      "Perplexity for test sample: 3.965406456500188\n"
     ]
    }
   ],
   "source": [
    "# test your code\n",
    "\n",
    "sentences = [['i', 'like', 'a', 'cat'],\n",
    "                 ['this', 'dog', 'is', 'like', 'a', 'cat']]\n",
    "unique_words = list(set(sentences[0] + sentences[1]))\n",
    "\n",
    "unigram_counts = count_n_grams(sentences, 1)\n",
    "bigram_counts = count_n_grams(sentences, 2)\n",
    "\n",
    "\n",
    "perplexity_train1 = calculate_perplexity(sentences[0],\n",
    "                                         unigram_counts, bigram_counts,\n",
    "                                         len(unique_words), k=1.0)\n",
    "print(\"Perplexity for first train sample:\", perplexity_train1)\n",
    "\n",
    "test_sentence = ['i', 'like', 'a', 'dog']\n",
    "perplexity_test = calculate_perplexity(test_sentence,\n",
    "                                       unigram_counts, bigram_counts,\n",
    "                                       len(unique_words), k=1.0)\n",
    "print(\"Perplexity for test sample:\", perplexity_test)"
   ]
  },
  {
   "cell_type": "markdown",
   "metadata": {},
   "source": [
    "Expected Output: \n",
    "\n",
    "```\n",
    "2.8039657955522013\n",
    "3.965406456500188\n",
    "```\n",
    "\n",
    "<b> Note: </b> If your sentence is really long, then you take the sum of the log of the probabilities to avoid underflow errors, instead of multiplying."
   ]
  },
  {
   "cell_type": "markdown",
   "metadata": {},
   "source": [
    "## Part 4: Develop auto-complete system\n",
    "\n",
    "In this section, we will combine the language models developed so far to finally implement an auto-complete system. \n",
    "In this implementation, we compute probabilities for all possible next word and suggest the most likely one.\n",
    "This function also take an optional argument `start_with`, which specifies the first a few letters of the next words.\n",
    "\n",
    "Hint: `estimate_probabilities` returns a mapping from word to the probability."
   ]
  },
  {
   "cell_type": "code",
   "execution_count": 68,
   "metadata": {
    "ExecuteTime": {
     "end_time": "2024-03-12T00:20:14.254735Z",
     "start_time": "2024-03-12T00:20:13.862752Z"
    }
   },
   "outputs": [],
   "source": [
    "# To be completed: suggest_a_word\n",
    "def suggest_a_word(previous_tokens, n_gram_counts, n_plus1_gram_counts, vocabulary, k=1.0, start_with=None):\n",
    "    \"\"\"\n",
    "    Get suggestion for the next word\n",
    "    \n",
    "    Args:\n",
    "        previous_tokens: The sentence you input where each token is a word. Must have length > n \n",
    "        n_gram_counts: Dictionary of counts of (n+1)-grams\n",
    "        n_plus1_gram_counts: Dictionary of counts of (n+1)-grams\n",
    "        vocabulary: List of words\n",
    "        k: positive constant, smoothing parameter\n",
    "        start_with: If not None, specifies the first few letters of the next word\n",
    "        \n",
    "    Returns:\n",
    "        A tuple of \n",
    "          - string of the most likely next word\n",
    "          - corresponding probability\n",
    "    \"\"\"\n",
    "    n = len(list(n_gram_counts.keys())[0])\n",
    "    previous_n_gram = previous_tokens[-n:]\n",
    "\n",
    "    probabilities = estimate_probabilities(previous_n_gram,\n",
    "                                           n_gram_counts, n_plus1_gram_counts,\n",
    "                                           vocabulary, k=k)\n",
    "    suggestion = None\n",
    "    max_prob = 0\n",
    "    \n",
    "    for word, prob in probabilities.items():\n",
    "        if start_with:\n",
    "            if not word.startswith(start_with):\n",
    "                continue\n",
    "        if prob > max_prob:\n",
    "            suggestion = word\n",
    "            max_prob = prob\n",
    "    \n",
    "    return suggestion, max_prob"
   ]
  },
  {
   "cell_type": "code",
   "execution_count": 69,
   "metadata": {
    "ExecuteTime": {
     "end_time": "2024-03-12T00:20:14.259249Z",
     "start_time": "2024-03-12T00:20:13.874369Z"
    }
   },
   "outputs": [
    {
     "data": {
      "text/plain": "('a', 0.2727272727272727)"
     },
     "execution_count": 69,
     "metadata": {},
     "output_type": "execute_result"
    }
   ],
   "source": [
    "# test your code\n",
    "sentences = [['i', 'like', 'a', 'cat'],\n",
    "             ['this', 'dog', 'is', 'like', 'a', 'cat']]\n",
    "unique_words = list(set(sentences[0] + sentences[1]))\n",
    "\n",
    "unigram_counts = count_n_grams(sentences, 1)\n",
    "bigram_counts = count_n_grams(sentences, 2)\n",
    "\n",
    "previous_tokens = [\"i\", \"like\"]\n",
    "suggest_a_word(previous_tokens, unigram_counts, bigram_counts, unique_words, k=1.0)"
   ]
  },
  {
   "cell_type": "code",
   "execution_count": 70,
   "metadata": {
    "ExecuteTime": {
     "end_time": "2024-03-12T00:20:14.259481Z",
     "start_time": "2024-03-12T00:20:13.874576Z"
    }
   },
   "outputs": [
    {
     "data": {
      "text/plain": "('cat', 0.09090909090909091)"
     },
     "execution_count": 70,
     "metadata": {},
     "output_type": "execute_result"
    }
   ],
   "source": [
    "# test your code\n",
    "suggest_a_word(previous_tokens, unigram_counts, bigram_counts, unique_words, k=1.0, start_with=\"c\")"
   ]
  },
  {
   "cell_type": "markdown",
   "metadata": {},
   "source": [
    "Expected outcomes:\n",
    "\n",
    "```\n",
    "('a', 0.2727272727272727)\n",
    "('cat', 0.09090909090909091)\n",
    "```"
   ]
  },
  {
   "cell_type": "markdown",
   "metadata": {},
   "source": [
    "The function defined below loop over varioud n-gram models to get multiple suggestions."
   ]
  },
  {
   "cell_type": "code",
   "execution_count": 71,
   "metadata": {
    "ExecuteTime": {
     "end_time": "2024-03-12T00:20:14.259815Z",
     "start_time": "2024-03-12T00:20:13.874719Z"
    }
   },
   "outputs": [],
   "source": [
    "def get_suggestions(previous_tokens, n_gram_counts_list, vocabulary, k=1.0, start_with=None):\n",
    "    model_counts = len(n_gram_counts_list)\n",
    "    suggestions = []\n",
    "    for i in range(model_counts-1):\n",
    "        n_gram_counts = n_gram_counts_list[i]\n",
    "        n_plus1_gram_counts = n_gram_counts_list[i+1]\n",
    "        \n",
    "        suggestion = suggest_a_word(previous_tokens, n_gram_counts,\n",
    "                                    n_plus1_gram_counts, vocabulary,\n",
    "                                    k=k, start_with=start_with)\n",
    "        suggestions.append(suggestion)\n",
    "    return suggestions"
   ]
  },
  {
   "cell_type": "code",
   "execution_count": 72,
   "metadata": {
    "ExecuteTime": {
     "end_time": "2024-03-12T00:20:14.260128Z",
     "start_time": "2024-03-12T00:20:13.877398Z"
    }
   },
   "outputs": [
    {
     "data": {
      "text/plain": "[('a', 0.2727272727272727),\n ('a', 0.2),\n ('this', 0.1111111111111111),\n ('this', 0.1111111111111111)]"
     },
     "execution_count": 72,
     "metadata": {},
     "output_type": "execute_result"
    }
   ],
   "source": [
    "# test your code\n",
    "sentences = [['i', 'like', 'a', 'cat'],\n",
    "             ['this', 'dog', 'is', 'like', 'a', 'cat']]\n",
    "unique_words = list(set(sentences[0] + sentences[1]))\n",
    "\n",
    "unigram_counts = count_n_grams(sentences, 1)\n",
    "bigram_counts = count_n_grams(sentences, 2)\n",
    "trigram_counts = count_n_grams(sentences, 3)\n",
    "quadgram_counts = count_n_grams(sentences, 4)\n",
    "qintgram_counts = count_n_grams(sentences, 5)\n",
    "\n",
    "n_gram_counts_list = [unigram_counts, bigram_counts, trigram_counts, quadgram_counts, qintgram_counts]\n",
    "previous_tokens = [\"i\", \"like\"]\n",
    "get_suggestions(previous_tokens, n_gram_counts_list, unique_words, k=1.0)"
   ]
  },
  {
   "cell_type": "markdown",
   "metadata": {},
   "source": [
    "## Show time!\n",
    "\n",
    "Conguraturations!  You have developed all building blocks for implementing your own auto-complete systems.\n",
    "Let's see this in action."
   ]
  },
  {
   "cell_type": "code",
   "execution_count": 73,
   "metadata": {
    "ExecuteTime": {
     "end_time": "2024-03-12T00:22:58.658111Z",
     "start_time": "2024-03-12T00:20:13.916280Z"
    }
   },
   "outputs": [
    {
     "name": "stdout",
     "output_type": "stream",
     "text": [
      "Computing n-gram counts with n = 1 ...\n",
      "Computing n-gram counts with n = 2 ...\n",
      "Computing n-gram counts with n = 3 ...\n",
      "Computing n-gram counts with n = 4 ...\n",
      "Computing n-gram counts with n = 5 ...\n"
     ]
    }
   ],
   "source": [
    "n_gram_counts_list = []\n",
    "for n in range(1, 6):\n",
    "    print(\"Computing n-gram counts with n =\", n, \"...\")\n",
    "    n_model_counts = count_n_grams(train_data_processed, n)\n",
    "    n_gram_counts_list.append(n_model_counts)"
   ]
  },
  {
   "cell_type": "code",
   "execution_count": 74,
   "metadata": {
    "ExecuteTime": {
     "end_time": "2024-03-12T00:23:04.397344Z",
     "start_time": "2024-03-12T00:22:59.124506Z"
    }
   },
   "outputs": [
    {
     "data": {
      "text/plain": "[('be', 0.04835555486711613),\n ('see', 0.00012309123111746323),\n ('have', 8.215239268843705e-05),\n ('adam', 6.851332926820913e-06)]"
     },
     "execution_count": 74,
     "metadata": {},
     "output_type": "execute_result"
    }
   ],
   "source": [
    "previous_tokens = [\"i\", \"am\", \"to\"]\n",
    "get_suggestions(previous_tokens, n_gram_counts_list, vocabulary, k=1.0)"
   ]
  },
  {
   "cell_type": "code",
   "execution_count": 75,
   "metadata": {
    "ExecuteTime": {
     "end_time": "2024-03-12T00:23:07.786699Z",
     "start_time": "2024-03-12T00:23:04.315494Z"
    }
   },
   "outputs": [
    {
     "data": {
      "text/plain": "[('to', 0.05451053965385144),\n ('to', 0.02193393573544299),\n ('to', 0.003800371893535296),\n ('to', 0.0015155238797411321)]"
     },
     "execution_count": 75,
     "metadata": {},
     "output_type": "execute_result"
    }
   ],
   "source": [
    "previous_tokens = [\"i\", \"want\", \"to\", \"go\"]\n",
    "get_suggestions(previous_tokens, n_gram_counts_list, vocabulary, k=1.0)"
   ]
  },
  {
   "cell_type": "code",
   "execution_count": 76,
   "metadata": {
    "ExecuteTime": {
     "end_time": "2024-03-12T00:23:10.982476Z",
     "start_time": "2024-03-12T00:23:07.840324Z"
    }
   },
   "outputs": [
    {
     "data": {
      "text/plain": "[('you', 0.06687329594212449),\n ('you', 0.0171090063255129),\n ('you', 0.0004861415425065732),\n ('adam', 6.851332926820913e-06)]"
     },
     "execution_count": 76,
     "metadata": {},
     "output_type": "execute_result"
    }
   ],
   "source": [
    "previous_tokens = [\"hey\", \"how\", \"are\"]\n",
    "get_suggestions(previous_tokens, n_gram_counts_list, vocabulary, k=1.0)"
   ]
  },
  {
   "cell_type": "code",
   "execution_count": 77,
   "metadata": {
    "ExecuteTime": {
     "end_time": "2024-03-12T00:23:14.210828Z",
     "start_time": "2024-03-12T00:23:10.985937Z"
    }
   },
   "outputs": [
    {
     "data": {
      "text/plain": "[(\"'re\", 0.04806323098830419),\n ('?', 0.012790025847650904),\n ('?', 0.007958952811893988),\n ('?', 0.00017804926486197757)]"
     },
     "execution_count": 77,
     "metadata": {},
     "output_type": "execute_result"
    }
   ],
   "source": [
    "previous_tokens = [\"hey\", \"how\", \"are\", \"you\"]\n",
    "get_suggestions(previous_tokens, n_gram_counts_list, vocabulary, k=1.0)"
   ]
  },
  {
   "cell_type": "code",
   "execution_count": 78,
   "metadata": {
    "ExecuteTime": {
     "end_time": "2024-03-12T00:23:17.861389Z",
     "start_time": "2024-03-12T00:23:14.229274Z"
    }
   },
   "outputs": [
    {
     "data": {
      "text/plain": "[('do', 0.017814114974160414),\n ('doing', 0.006860270640109472),\n ('doing', 0.0017843675931911226),\n ('doing', 5.478438918830079e-05)]"
     },
     "execution_count": 78,
     "metadata": {},
     "output_type": "execute_result"
    }
   ],
   "source": [
    "previous_tokens = [\"hey\", \"how\", \"are\", \"you\"]\n",
    "get_suggestions(previous_tokens, n_gram_counts_list, vocabulary, k=1.0, start_with=\"d\")"
   ]
  },
  {
   "cell_type": "code",
   "execution_count": 79,
   "outputs": [],
   "source": [
    "unigram_counts = count_n_grams(train_data_processed, 1)\n",
    "bigram_counts = count_n_grams(train_data_processed, 2)"
   ],
   "metadata": {
    "collapsed": false,
    "ExecuteTime": {
     "end_time": "2024-03-12T00:23:44.579377Z",
     "start_time": "2024-03-12T00:23:17.908413Z"
    }
   }
  },
  {
   "cell_type": "code",
   "execution_count": 80,
   "outputs": [],
   "source": [
    "def calculate_continuation_counts(bigram_counts):\n",
    "    \"\"\"\n",
    "    Calculate continuation counts for each word in the bigrams.\n",
    "\n",
    "    Args:\n",
    "        bigram_counts: Dictionary with bigram counts.\n",
    "\n",
    "    Returns:\n",
    "        A dictionary with each word's continuation count.\n",
    "    \"\"\"\n",
    "    continuation_counts = {}\n",
    "    for bigram in bigram_counts:\n",
    "        _, continuation_word = bigram\n",
    "        if continuation_word not in continuation_counts:\n",
    "            continuation_counts[continuation_word] = set()\n",
    "        continuation_counts[continuation_word].add(bigram[0])\n",
    "\n",
    "    # Convert sets to lengths for actual counts\n",
    "    continuation_counts = {word: len(preceding_words) for word, preceding_words in continuation_counts.items()}\n",
    "    return continuation_counts"
   ],
   "metadata": {
    "collapsed": false,
    "ExecuteTime": {
     "end_time": "2024-03-12T00:23:44.592126Z",
     "start_time": "2024-03-12T00:23:44.584644Z"
    }
   }
  },
  {
   "cell_type": "code",
   "execution_count": 81,
   "outputs": [],
   "source": [
    "continuation_counts = calculate_continuation_counts(bigram_counts)"
   ],
   "metadata": {
    "collapsed": false,
    "ExecuteTime": {
     "end_time": "2024-03-12T00:23:46.667606Z",
     "start_time": "2024-03-12T00:23:44.614071Z"
    }
   }
  },
  {
   "cell_type": "code",
   "execution_count": 82,
   "outputs": [],
   "source": [
    "def calculate_total_bigrams(bigram_counts):\n",
    "    \"\"\"\n",
    "    Calculate the total number of unique bigram starters.\n",
    "\n",
    "    Args:\n",
    "        bigram_counts: Dictionary with bigram counts.\n",
    "\n",
    "    Returns:\n",
    "        An integer count of unique first words in the bigrams.\n",
    "    \"\"\"\n",
    "    unique_starters = set(bigram[0] for bigram in bigram_counts)\n",
    "    return len(unique_starters)"
   ],
   "metadata": {
    "collapsed": false,
    "ExecuteTime": {
     "end_time": "2024-03-12T00:23:46.669271Z",
     "start_time": "2024-03-12T00:23:46.658452Z"
    }
   }
  },
  {
   "cell_type": "code",
   "execution_count": 83,
   "outputs": [],
   "source": [
    "total_bigrams = calculate_total_bigrams(bigram_counts)"
   ],
   "metadata": {
    "collapsed": false,
    "ExecuteTime": {
     "end_time": "2024-03-12T00:23:47.399261Z",
     "start_time": "2024-03-12T00:23:46.717195Z"
    }
   }
  },
  {
   "cell_type": "code",
   "execution_count": 84,
   "outputs": [],
   "source": [
    "def calculate_raw_bigram_probability(previous_word, next_word, bigram_counts, unigram_counts):\n",
    "    \"\"\"\n",
    "    Calculate the raw (unsmoothed) probability of a bigram.\n",
    "\n",
    "    Args:\n",
    "        previous_word: The first word in the bigram.\n",
    "        next_word: The second word in the bigram.\n",
    "        bigram_counts: Dictionary of bigram counts.\n",
    "        unigram_counts: Dictionary of unigram counts.\n",
    "        \n",
    "    Returns:\n",
    "        The raw probability of the bigram.\n",
    "    \"\"\"\n",
    "    bigram = (previous_word, next_word)\n",
    "    bigram_count = bigram_counts.get(bigram, 0)\n",
    "    previous_word_count = unigram_counts.get(previous_word, 0)\n",
    "    probability = bigram_count / previous_word_count if previous_word_count > 0 else 0\n",
    "    return probability"
   ],
   "metadata": {
    "collapsed": false,
    "ExecuteTime": {
     "end_time": "2024-03-12T00:23:47.409541Z",
     "start_time": "2024-03-12T00:23:47.401618Z"
    }
   }
  },
  {
   "cell_type": "code",
   "execution_count": 85,
   "metadata": {
    "ExecuteTime": {
     "end_time": "2024-03-12T00:23:47.409728Z",
     "start_time": "2024-03-12T00:23:47.407176Z"
    }
   },
   "outputs": [],
   "source": [
    "def kneser_ney_probability(bigram, bigram_counts, unigram_counts, continuation_counts, total_unique_bigrams, d=0.5):\n",
    "    \"\"\"\n",
    "    Calculate the Kneser-Ney smoothed probability of a bigram.\n",
    "\n",
    "    Args:\n",
    "        bigram: Bigram for which to calculate the probability.\n",
    "        bigram_counts: Dictionary of bigram counts.\n",
    "        unigram_counts: Dictionary of unigram counts.\n",
    "        continuation_counts: Dictionary of continuation counts for each word.\n",
    "        total_unique_bigrams: Total number of unique bigram starters.\n",
    "        d: Discount value.\n",
    "\n",
    "    Returns:\n",
    "        The Kneser-Ney smoothed probability of the bigram.\n",
    "    \"\"\"\n",
    "    w_1, w_2 = bigram\n",
    "\n",
    "    w_1_count = unigram_counts.get(w_1, 0)\n",
    "    if w_1_count == 0:\n",
    "        return 0\n",
    "\n",
    "    p_continuation = continuation_counts.get(w_2, 0) / total_unique_bigrams if total_unique_bigrams > 0 else 0\n",
    "\n",
    "    lambda_w_1 = d * len([w for w in continuation_counts if (w_1, w) in bigram_counts]) / w_1_count\n",
    "\n",
    "    bigram_count = bigram_counts.get(bigram, 0)\n",
    "    discounted_probability = max(bigram_count - d, 0) / w_1_count\n",
    "\n",
    "    p_kneser_ney = discounted_probability + (lambda_w_1 * p_continuation)\n",
    "\n",
    "    return p_kneser_ney\n"
   ]
  },
  {
   "cell_type": "code",
   "execution_count": 86,
   "outputs": [
    {
     "name": "stdout",
     "output_type": "stream",
     "text": [
      "P(store|computer) = 0\n",
      "P(monitor|computer) = 0\n"
     ]
    }
   ],
   "source": [
    "# A\n",
    "p_store_given_computer = calculate_raw_bigram_probability('computer', 'store', bigram_counts, unigram_counts)\n",
    "p_monitor_given_computer = calculate_raw_bigram_probability('computer', 'monitor', bigram_counts, unigram_counts)\n",
    "\n",
    "print(f\"P(store|computer) = {p_store_given_computer}\")\n",
    "print(f\"P(monitor|computer) = {p_monitor_given_computer}\")"
   ],
   "metadata": {
    "collapsed": false,
    "ExecuteTime": {
     "end_time": "2024-03-12T00:23:47.417221Z",
     "start_time": "2024-03-12T00:23:47.410761Z"
    }
   }
  },
  {
   "cell_type": "code",
   "execution_count": 87,
   "outputs": [
    {
     "name": "stdout",
     "output_type": "stream",
     "text": [
      "Probability (store|computer) with d=0.5: 0\n",
      "Probability (monitor|computer) with d=0.5: 0\n"
     ]
    }
   ],
   "source": [
    "# B\n",
    "prob_store_d_05 = kneser_ney_probability(('computer', 'store'), bigram_counts, unigram_counts, continuation_counts, total_bigrams, d=0.5)\n",
    "prob_monitor_d_05 = kneser_ney_probability(('computer', 'monitor'), bigram_counts, unigram_counts, continuation_counts, total_bigrams, d=0.5)\n",
    "\n",
    "# Compare probabilities\n",
    "print(f\"Probability (store|computer) with d=0.5: {prob_store_d_05}\")\n",
    "print(f\"Probability (monitor|computer) with d=0.5: {prob_monitor_d_05}\")\n"
   ],
   "metadata": {
    "collapsed": false,
    "ExecuteTime": {
     "end_time": "2024-03-12T00:23:47.417364Z",
     "start_time": "2024-03-12T00:23:47.413447Z"
    }
   }
  },
  {
   "cell_type": "code",
   "execution_count": 88,
   "outputs": [
    {
     "name": "stdout",
     "output_type": "stream",
     "text": [
      "Probability (store|computer) with d=0.1: 0\n",
      "Probability (monitor|computer) with d=0.1: 0\n"
     ]
    }
   ],
   "source": [
    "# C\n",
    "prob_store_d_01 = kneser_ney_probability(('computer', 'store'), bigram_counts, unigram_counts, continuation_counts, total_bigrams, d=0.1)\n",
    "prob_monitor_d_01 = kneser_ney_probability(('computer', 'monitor'), bigram_counts, unigram_counts, continuation_counts, total_bigrams, d=0.1)\n",
    "\n",
    "# Compare probabilities\n",
    "print(f\"Probability (store|computer) with d=0.1: {prob_store_d_01}\")\n",
    "print(f\"Probability (monitor|computer) with d=0.1: {prob_monitor_d_01}\")"
   ],
   "metadata": {
    "collapsed": false,
    "ExecuteTime": {
     "end_time": "2024-03-12T00:23:47.447387Z",
     "start_time": "2024-03-12T00:23:47.416336Z"
    }
   }
  },
  {
   "cell_type": "code",
   "execution_count": 88,
   "outputs": [],
   "source": [],
   "metadata": {
    "collapsed": false,
    "ExecuteTime": {
     "end_time": "2024-03-12T00:23:47.448509Z",
     "start_time": "2024-03-12T00:23:47.418161Z"
    }
   }
  }
 ],
 "metadata": {
  "coursera": {
   "schema_names": [
    "NLPC2-3"
   ]
  },
  "kernelspec": {
   "display_name": "Python 3 (ipykernel)",
   "language": "python",
   "name": "python3"
  },
  "language_info": {
   "codemirror_mode": {
    "name": "ipython",
    "version": 3
   },
   "file_extension": ".py",
   "mimetype": "text/x-python",
   "name": "python",
   "nbconvert_exporter": "python",
   "pygments_lexer": "ipython3",
   "version": "3.9.12"
  }
 },
 "nbformat": 4,
 "nbformat_minor": 4
}
